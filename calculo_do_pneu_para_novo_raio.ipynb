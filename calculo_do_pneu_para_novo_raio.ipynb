{
  "nbformat": 4,
  "nbformat_minor": 0,
  "metadata": {
    "colab": {
      "provenance": [],
      "authorship_tag": "ABX9TyNuSqbZlD+QA6UidnuA3XyK",
      "include_colab_link": true
    },
    "kernelspec": {
      "name": "python3",
      "display_name": "Python 3"
    },
    "language_info": {
      "name": "python"
    }
  },
  "cells": [
    {
      "cell_type": "markdown",
      "metadata": {
        "id": "view-in-github",
        "colab_type": "text"
      },
      "source": [
        "<a href=\"https://colab.research.google.com/github/MauroDosAnjosSoares/MauroDosAnjosSoares/blob/main/calculo_do_pneu_para_novo_raio.ipynb\" target=\"_parent\"><img src=\"https://colab.research.google.com/assets/colab-badge.svg\" alt=\"Open In Colab\"/></a>"
      ]
    },
    {
      "cell_type": "code",
      "execution_count": 28,
      "metadata": {
        "colab": {
          "base_uri": "https://localhost:8080/"
        },
        "id": "cadRQprVhi1z",
        "outputId": "362547e0-7941-454a-ac91-c2d1289aea59"
      },
      "outputs": [
        {
          "output_type": "stream",
          "name": "stdout",
          "text": [
            "Digite o valor do raio antigo: 14\n",
            "Digite o valor da tala em mm: 175\n",
            "Digite o valor do perfil em %: 65\n",
            "O tamanho da roda é: 583.100000 mm\n",
            "Digite o valor do raio novo: 15\n",
            "O tamanho do novo pneu é 175/60  raio 15\n",
            "O tamanho da nova roda é: 591.000000 mm\n"
          ]
        }
      ],
      "source": [
        "raio_antigo = float(input(\"Digite o valor do raio antigo: \"))\n",
        "tala = float(input(\"Digite o valor da tala em mm: \"))\n",
        "perfil = float(input(\"Digite o valor do perfil em %: \"))\n",
        "tamanho = (25.4 * raio_antigo) + (2 * (tala * perfil / 100))\n",
        "print(\"O tamanho da roda é: %f mm\"%tamanho)\n",
        "raio_novo = float(input(\"Digite o valor do raio novo: \"))\n",
        "perfil_novo=round((100*((tamanho-(25.4*raio_novo))/(2*tala))) / 5) * 5\n",
        "print('O tamanho do novo pneu é %d/%d  raio %d'%(tala, perfil_novo, raio_novo))\n",
        "tamanho_novo = (25.4 * raio_novo) + (2 * (tala * perfil_novo / 100))\n",
        "print(\"O tamanho da nova roda é: %f mm\"%tamanho_novo)"
      ]
    }
  ]
}